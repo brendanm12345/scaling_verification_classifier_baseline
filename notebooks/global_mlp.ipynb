{
 "cells": [
  {
   "cell_type": "code",
   "execution_count": 14,
   "metadata": {},
   "outputs": [],
   "source": [
    "import os\n",
    "import sys\n",
    "import pandas as pd\n",
    "import numpy as np\n",
    "from sklearn.neural_network import MLPClassifier\n",
    "import matplotlib.pyplot as plt\n",
    "from datasets import load_dataset\n",
    "from tqdm import tqdm\n",
    "\n",
    "project_root = os.path.abspath(os.path.join(os.path.dirname(\"__file__\"), '..', '..'))\n",
    "sys.path.append(project_root)\n",
    "from baseline.utils.setup import setup_experiment_dir\n",
    "exp_dir = setup_experiment_dir('global_mlp')"
   ]
  },
  {
   "cell_type": "code",
   "execution_count": 15,
   "metadata": {},
   "outputs": [],
   "source": [
    "def prepare_data(dataset_name):\n",
    "    dataset = load_dataset(dataset_name)\n",
    "    data = dataset['data']\n",
    "\n",
    "    METADATA_COLUMNS = {\n",
    "        'problem', 'samples', 'solution', 'instruction', 'type', 'level', 'answer_correct', 'extracted_answers',\n",
    "        'problem_idx', 'solution_idx'\n",
    "    }\n",
    "    \n",
    "    # get first row (problem) to identify columns\n",
    "    first_item = data[0]\n",
    "    all_columns = set(first_item.keys())\n",
    "    \n",
    "    # First identify judge columns (they're special case with T/F values)\n",
    "    judge_columns = [col for col in all_columns \n",
    "                    if col.startswith('judge_') and col not in METADATA_COLUMNS]\n",
    "    \n",
    "    # Then identify numeric feature columns (excluding judge columns)\n",
    "    numeric_columns = [col for col in all_columns \n",
    "                      if col not in METADATA_COLUMNS and \n",
    "                      col not in judge_columns and\n",
    "                      isinstance(first_item[col][0], (int, float, np.number))]\n",
    "    \n",
    "    # 1st pass: collect all values for each verdict column\n",
    "    verdict_values = {col: [] for col in judge_columns}\n",
    "    for problem in data:\n",
    "        num_samples = len(problem['samples'])\n",
    "        for col in judge_columns:\n",
    "            # Only collect values if they match the number of samples\n",
    "            if len(problem[col]) == num_samples:\n",
    "                verdict_values[col].extend([v for v in problem[col] if v is not None])\n",
    "    \n",
    "    # calc mode for each verdict column with safety check\n",
    "    modes = {}\n",
    "    for col, values in verdict_values.items():\n",
    "        if not values:  # If all values were None\n",
    "            modes[col] = False  # default to False for empty columns\n",
    "        else:\n",
    "            modes[col] = max(set(values), key=values.count)\n",
    "    \n",
    "    # score cols are numeric columns that end with \"_score(s)\"\n",
    "    score_columns = [col for col in numeric_columns\n",
    "                    if col.endswith('_score') or col.endswith('_scores')]\n",
    "    \n",
    "    # other numerical columns (e.g. rewards, steps)\n",
    "    other_num_columns = [col for col in numeric_columns\n",
    "                        if col not in score_columns]\n",
    "    \n",
    "    data_rows = []\n",
    "    for idx in range(len(data)):\n",
    "        problem = data[idx]\n",
    "        num_samples = len(problem['samples'])\n",
    "        \n",
    "        # filter columns to only those that match the number of samples/generations\n",
    "        valid_judge_columns = [col for col in judge_columns if len(problem[col]) == num_samples]\n",
    "        valid_score_columns = [col for col in score_columns if len(problem[col]) == num_samples]\n",
    "        valid_other_columns = [col for col in other_num_columns if len(problem[col]) == num_samples]\n",
    "        \n",
    "        normalized_scores = normalize_scores(problem, valid_score_columns)\n",
    "        normalized_nums = normalize_scores(problem, valid_other_columns)\n",
    "        \n",
    "        for i in range(num_samples):\n",
    "            if i < len(problem['answer_correct']):  # check if we have a corresponding answer\n",
    "                row = {\n",
    "                    'problem_idx': idx,\n",
    "                    'solution_idx': i,\n",
    "                    'is_correct': problem['answer_correct'][i],\n",
    "                    # Handle judge columns separately (no normalization)\n",
    "                    **{column: modes[column] if problem[column][i] is None\n",
    "                       else problem[column][i] for column in valid_judge_columns},\n",
    "                    # Normalize numeric columns\n",
    "                    **{column: normalized_scores[column][i] for column in valid_score_columns},\n",
    "                    **{column: normalized_nums[column][i] for column in valid_other_columns}\n",
    "                }\n",
    "                data_rows.append(row)\n",
    "            \n",
    "    df = pd.DataFrame(data_rows)\n",
    "    final_feature_columns = [col for col in (judge_columns + numeric_columns) \n",
    "                            if col in df.columns]\n",
    "    \n",
    "    return df, final_feature_columns\n",
    "\n",
    "def normalize_scores(problem, columns):\n",
    "    \"\"\"Normalize scores within each problem\"\"\"\n",
    "    normalized = {}\n",
    "    for col in columns:\n",
    "        values = np.array(problem[col])\n",
    "        min_val = np.min(values)\n",
    "        max_val = np.max(values)\n",
    "        score_range = max_val - min_val\n",
    "        if score_range == 0:\n",
    "            normalized[col] = [0.5] * len(values)\n",
    "        else:\n",
    "            normalized[col] = (values - min_val) / score_range\n",
    "    return normalized"
   ]
  },
  {
   "cell_type": "code",
   "execution_count": 29,
   "metadata": {},
   "outputs": [
    {
     "name": "stdout",
     "output_type": "stream",
     "text": [
      "Dataset shape: (140000, 30)\n",
      "Number of features: 27\n",
      "\n",
      "Feature columns: ['judge_llama-3.3-70b-instruct-turbo_verdicts', 'judge_mixtral-8x22b-instruct-v0.1_verdicts', 'judge_wizardlm-2-8x22b_verdicts', 'judge_claude-3-5-sonnet-latest_verdicts', 'judge_nous-hermes-2-mixtral-8x7b-dpo_verdicts', 'judge_llama-3.1-nemotron-70b-instruct-hf_verdicts', 'judge_qwen2.5-72b-instruct-turbo_verdicts', 'judge_meta-llama-3.1-405b-instruct-turbo_verdicts', 'judge_gpt-4o_verdicts', 'judge_gemma-2-27b-it_verdicts', 'judge_qwq-32b-preview_verdicts', 'judge_qwen2-72b-instruct_verdicts', 'armor_rm_complexity', 'grm_gemma_scores', 'qrm_scores', 'armor_rm_coherence', 'grm_scores', 'urm_scores', 'armor_rm_verbosity', 'internlm_scores', 'armor_rm_correctness', 'skyworks_scores', 'armor_rm_helpfulness', 'gpm_scores', 'offset_bias_scores', 'grm_llama32_scores', 'armor_rm_score']\n"
     ]
    }
   ],
   "source": [
    "df, feature_columns = prepare_data(\"hazyresearch/CodeContests_Llama_70B_with_LM_Judges_and_RMs_v1\")\n",
    "print(f\"Dataset shape: {df.shape}\")\n",
    "print(f\"Number of features: {len(feature_columns)}\")\n",
    "print(f\"\\nFeature columns: {feature_columns}\")"
   ]
  },
  {
   "cell_type": "code",
   "execution_count": 30,
   "metadata": {},
   "outputs": [],
   "source": [
    "def calculate_metrics(df_test, y_pred, y_pred_proba):\n",
    "    \"\"\"Calculate all required metrics including generation accuracy\"\"\"\n",
    "    metrics_per_problem = []\n",
    "    total_correct_predictions = 0\n",
    "    total_predictions = 0\n",
    "    \n",
    "    # Calculate metrics for each problem\n",
    "    for prob_idx in df_test['problem_idx'].unique():\n",
    "        prob_mask = df_test['problem_idx'] == prob_idx\n",
    "        prob_df = df_test[prob_mask]\n",
    "        prob_proba = y_pred_proba[prob_mask]\n",
    "        prob_pred = y_pred[prob_mask]\n",
    "        \n",
    "        # Calculate generation accuracy for this problem\n",
    "        correct_predictions = (prob_pred == prob_df['is_correct']).sum()\n",
    "        total_predictions += len(prob_pred)\n",
    "        total_correct_predictions += correct_predictions\n",
    "        \n",
    "        # Selection metrics (as before)\n",
    "        selected_idx = np.argmax(prob_proba)\n",
    "        prob_labels = prob_df['is_correct'].values\n",
    "        \n",
    "        tp = 1 if prob_labels[selected_idx] else 0\n",
    "        fp = 1 if not prob_labels[selected_idx] else 0\n",
    "        fn = 1 if sum(prob_labels) > 0 and not prob_labels[selected_idx] else 0\n",
    "        tn = 1 if sum(prob_labels) == 0 and not prob_labels[selected_idx] else 0\n",
    "        \n",
    "        metrics_per_problem.append({\n",
    "            'true_positive': tp,\n",
    "            'false_positive': fp,\n",
    "            'false_negative': fn,\n",
    "            'true_negative': tn\n",
    "        })\n",
    "    \n",
    "    # Aggregate metrics\n",
    "    n_problems = len(metrics_per_problem)\n",
    "    tp = sum(m['true_positive'] for m in metrics_per_problem)\n",
    "    fp = sum(m['false_positive'] for m in metrics_per_problem)\n",
    "    fn = sum(m['false_negative'] for m in metrics_per_problem)\n",
    "    tn = sum(m['true_negative'] for m in metrics_per_problem)\n",
    "    \n",
    "    metrics = {\n",
    "        'selection_accuracy': tp / n_problems,\n",
    "        'selection_precision': tp / (tp + fp) if (tp + fp) > 0 else 0,\n",
    "        'selection_recall': tp / (tp + fn) if (tp + fn) > 0 else 0,\n",
    "        'selection_tp': tp,\n",
    "        'selection_tn': tn,\n",
    "        'selection_fp': fp,\n",
    "        'selection_fn': fn,\n",
    "        'generation_accuracy': total_correct_predictions / total_predictions\n",
    "    }\n",
    "\n",
    "    metrics['selection_f1'] = (\n",
    "        2 * metrics['selection_precision'] * metrics['selection_recall'] /\n",
    "        (metrics['selection_precision'] + metrics['selection_recall'])\n",
    "        if (metrics['selection_precision'] + metrics['selection_recall']) > 0 else 0\n",
    "    )\n",
    "\n",
    "    return metrics"
   ]
  },
  {
   "cell_type": "code",
   "execution_count": 31,
   "metadata": {},
   "outputs": [],
   "source": [
    "def train_global_mlp(df, feature_columns, train_percentage):\n",
    "    \"\"\"Train global MLP with fixed architecture\"\"\"\n",
    "    X = df[feature_columns].copy()\n",
    "    y = df['is_correct']\n",
    "    \n",
    "    problems_per_generation = len(df) / len(df['problem_idx'].unique())\n",
    "    k = max(1, int(problems_per_generation * train_percentage))\n",
    "    train_mask = df.groupby('problem_idx').cumcount() < k\n",
    "    \n",
    "    X_train = X[train_mask]\n",
    "    y_train = y[train_mask]\n",
    "    X_test = X[~train_mask]\n",
    "    y_test = y[~train_mask]\n",
    "    df_test = df[~train_mask]\n",
    "    \n",
    "    mlp = MLPClassifier(\n",
    "        hidden_layer_sizes=(100, 50),\n",
    "        learning_rate_init=0.001,\n",
    "        max_iter=1000,\n",
    "        random_state=42\n",
    "    )\n",
    "    \n",
    "    mlp.fit(X_train, y_train)\n",
    "\n",
    "    test_pred = mlp.predict(X_test)\n",
    "    test_pred_proba = mlp.predict_proba(X_test)[:, 1]\n",
    "    \n",
    "    metrics = calculate_metrics(df_test, test_pred, test_pred_proba)\n",
    "    metrics['train_percentage'] = train_percentage\n",
    "    \n",
    "    return metrics"
   ]
  },
  {
   "cell_type": "code",
   "execution_count": 32,
   "metadata": {},
   "outputs": [],
   "source": [
    "def plot_results(results_df: pd.DataFrame, model_type: str):\n",
    "    \"\"\"Plot accuracy metrics\"\"\"\n",
    "    plt.figure(figsize=(10, 5))\n",
    "    \n",
    "    # Selection@1 plot\n",
    "    plt.subplot(1, 2, 1)\n",
    "    plt.plot(results_df['train_percentage'] * 100,\n",
    "             results_df['selection_accuracy'],\n",
    "             '-o', label=f'{model_type} MLP')\n",
    "    plt.xlabel('Percentage of Training Data')\n",
    "    plt.ylabel('Selection@1')\n",
    "    plt.title('Selection@1 vs Training Data Size')\n",
    "    plt.grid(True)\n",
    "    plt.ylim(0, 1)\n",
    "    plt.legend()\n",
    "\n",
    "    # Generation Accuracy plot\n",
    "    plt.subplot(1, 2, 2)\n",
    "    plt.plot(results_df['train_percentage'] * 100,\n",
    "             results_df['generation_accuracy'],\n",
    "             '-o', label=f'{model_type} MLP')\n",
    "    plt.xlabel('Percentage of Training Data')\n",
    "    plt.ylabel('Generation Accuracy')\n",
    "    plt.title('Generation Accuracy vs Training Data Size')\n",
    "    plt.grid(True)\n",
    "    plt.ylim(0, 1)\n",
    "    plt.legend()\n",
    "    \n",
    "    plt.tight_layout()\n",
    "    plt.savefig(os.path.join(exp_dir, 'plots.png'))\n",
    "    plt.close()"
   ]
  },
  {
   "cell_type": "code",
   "execution_count": 33,
   "metadata": {},
   "outputs": [
    {
     "name": "stderr",
     "output_type": "stream",
     "text": [
      "  0%|          | 0/6 [00:00<?, ?it/s]"
     ]
    },
    {
     "name": "stdout",
     "output_type": "stream",
     "text": [
      "\n",
      "Training with 0.1% of data\n"
     ]
    },
    {
     "name": "stderr",
     "output_type": "stream",
     "text": [
      " 17%|█▋        | 1/6 [00:00<00:01,  3.07it/s]"
     ]
    },
    {
     "name": "stdout",
     "output_type": "stream",
     "text": [
      "Selection accuracy: 0.107\n",
      "Generation Accuracy: 0.955\n",
      "\n",
      "Training with 1.0% of data\n"
     ]
    },
    {
     "name": "stderr",
     "output_type": "stream",
     "text": [
      " 33%|███▎      | 2/6 [00:01<00:02,  1.43it/s]"
     ]
    },
    {
     "name": "stdout",
     "output_type": "stream",
     "text": [
      "Selection accuracy: 0.121\n",
      "Generation Accuracy: 0.966\n",
      "\n",
      "Training with 10.0% of data\n"
     ]
    },
    {
     "name": "stderr",
     "output_type": "stream",
     "text": [
      " 50%|█████     | 3/6 [00:08<00:10,  3.50s/it]"
     ]
    },
    {
     "name": "stdout",
     "output_type": "stream",
     "text": [
      "Selection accuracy: 0.129\n",
      "Generation Accuracy: 0.978\n",
      "\n",
      "Training with 30.0% of data\n"
     ]
    },
    {
     "name": "stderr",
     "output_type": "stream",
     "text": [
      " 67%|██████▋   | 4/6 [00:27<00:19,  9.80s/it]"
     ]
    },
    {
     "name": "stdout",
     "output_type": "stream",
     "text": [
      "Selection accuracy: 0.150\n",
      "Generation Accuracy: 0.984\n",
      "\n",
      "Training with 50.0% of data\n"
     ]
    },
    {
     "name": "stderr",
     "output_type": "stream",
     "text": [
      " 83%|████████▎ | 5/6 [01:06<00:20, 20.32s/it]"
     ]
    },
    {
     "name": "stdout",
     "output_type": "stream",
     "text": [
      "Selection accuracy: 0.157\n",
      "Generation Accuracy: 0.987\n",
      "\n",
      "Training with 70.0% of data\n"
     ]
    },
    {
     "name": "stderr",
     "output_type": "stream",
     "text": [
      "100%|██████████| 6/6 [01:45<00:00, 17.59s/it]"
     ]
    },
    {
     "name": "stdout",
     "output_type": "stream",
     "text": [
      "Selection accuracy: 0.171\n",
      "Generation Accuracy: 0.988\n"
     ]
    },
    {
     "name": "stderr",
     "output_type": "stream",
     "text": [
      "\n"
     ]
    }
   ],
   "source": [
    "train_percentages = [0.001, 0.01, 0.1, 0.3, 0.5, 0.7]\n",
    "results = []\n",
    "\n",
    "for train_percentage in tqdm(train_percentages):\n",
    "    print(f\"\\nTraining with {train_percentage*100}% of data\")\n",
    "    metrics = train_global_mlp(df, feature_columns, train_percentage)\n",
    "    results.append(metrics)\n",
    "    print(f\"Selection accuracy: {metrics['selection_accuracy']:.3f}\")\n",
    "    print(f\"Generation Accuracy: {metrics['generation_accuracy']:.3f}\")\n",
    "\n",
    "results_df = pd.DataFrame(results)\n",
    "results_df.to_csv(os.path.join(exp_dir, 'metrics.csv'), index=False)  \n",
    "plot_results(results_df, model_type='Global')"
   ]
  },
  {
   "cell_type": "code",
   "execution_count": null,
   "metadata": {},
   "outputs": [],
   "source": []
  }
 ],
 "metadata": {
  "kernelspec": {
   "display_name": "agents",
   "language": "python",
   "name": "python3"
  },
  "language_info": {
   "codemirror_mode": {
    "name": "ipython",
    "version": 3
   },
   "file_extension": ".py",
   "mimetype": "text/x-python",
   "name": "python",
   "nbconvert_exporter": "python",
   "pygments_lexer": "ipython3",
   "version": "3.12.8"
  }
 },
 "nbformat": 4,
 "nbformat_minor": 2
}
