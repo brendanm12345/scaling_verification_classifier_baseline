{
 "cells": [
  {
   "cell_type": "code",
   "execution_count": 2,
   "metadata": {},
   "outputs": [],
   "source": [
    "import os\n",
    "import sys\n",
    "import pandas as pd\n",
    "import numpy as np\n",
    "from sklearn.neural_network import MLPClassifier\n",
    "import matplotlib.pyplot as plt\n",
    "from datasets import load_dataset\n",
    "from tqdm import tqdm\n",
    "\n",
    "project_root = os.path.abspath(os.path.join(os.path.dirname(\"__file__\"), '..', '..'))\n",
    "sys.path.append(project_root)\n",
    "from baseline.utils.setup import setup_experiment_dir\n",
    "exp_dir = setup_experiment_dir('global_mlp')"
   ]
  },
  {
   "cell_type": "code",
   "execution_count": 3,
   "metadata": {},
   "outputs": [],
   "source": [
    "def prepare_data():\n",
    "    dataset = load_dataset(\"hazyresearch/MATH_with_LM_Judges_and_Reward_Model_Results_V2\")\n",
    "    data = dataset['data']\n",
    "    \n",
    "    # get first row\n",
    "    first_item = data[0]\n",
    "    judge_columns = [k for k in first_item.keys() if k.startswith('judge_')]\n",
    "    score_columns = [k for k in first_item.keys() \n",
    "                    if k.endswith('_scores') and not k.startswith('judge_')]\n",
    "    feature_columns = judge_columns + score_columns\n",
    "\n",
    "    # First pass: collect all values for each verdict column to compute mode\n",
    "    verdict_values = {col: [] for col in judge_columns}\n",
    "    for problem in data:\n",
    "        for col in judge_columns:\n",
    "            verdict_values[col].extend([v for v in problem[col] if v is not None])\n",
    "    \n",
    "    # Compute mode for each verdict column\n",
    "    modes = {col: max(set(values), key=values.count) \n",
    "            for col, values in verdict_values.items()}\n",
    "\n",
    "    data_rows = []\n",
    "    for idx in range(len(data)):\n",
    "        problem = data[idx]\n",
    "        normalized_scores = normalize_scores(problem, score_columns)\n",
    "        \n",
    "        for i in range(len(problem['samples'])):\n",
    "            row = {\n",
    "                'problem_idx': idx,\n",
    "                'solution_idx': i,\n",
    "                'is_correct': problem['answer_correct'][i],\n",
    "                # Fill judge columns with mode if None\n",
    "                **{column: modes[column] if problem[column][i] is None else problem[column][i] \n",
    "                   for column in judge_columns},\n",
    "                # Use normalized scores for score columns\n",
    "                **{column: normalized_scores[column][i] for column in score_columns}\n",
    "            }\n",
    "            data_rows.append(row)\n",
    "            \n",
    "    df = pd.DataFrame(data_rows)\n",
    "    return df, feature_columns\n",
    "\n",
    "def normalize_scores(problem, score_columns):\n",
    "    \"\"\"Normalize scores within each problem\"\"\"\n",
    "    normalized_scores = {}\n",
    "    for score_col in score_columns:\n",
    "        scores = np.array(problem[score_col])\n",
    "        min_score = np.min(scores)\n",
    "        max_score = np.max(scores)\n",
    "        score_range = max_score - min_score\n",
    "        if score_range == 0:\n",
    "            normalized_scores[score_col] = [0.5] * len(scores)\n",
    "        else:\n",
    "            normalized_scores[score_col] = (scores - min_score) / score_range\n",
    "    return normalized_scores"
   ]
  },
  {
   "cell_type": "code",
   "execution_count": 4,
   "metadata": {},
   "outputs": [
    {
     "name": "stdout",
     "output_type": "stream",
     "text": [
      "Dataset shape: (100000, 22)\n",
      "Number of features: 19\n",
      "\n",
      "Feature columns: ['judge_qwen2-72b-instruct_verdicts', 'judge_qwen2.5-72b-instruct-turbo_verdicts', 'judge_qwq-32b-preview_verdicts', 'judge_nous-hermes-2-mixtral-8x7b-dpo_verdicts', 'judge_llama-3.1-nemotron-70b-instruct-hf_verdicts', 'judge_meta-llama-3.1-405b-instruct-turbo_verdicts', 'judge_gemma-2-27b-it_verdicts', 'judge_claude-3-5-sonnet-latest_verdicts', 'judge_llama-3.3-70b-instruct-turbo_verdicts', 'judge_gpt-4o_verdicts', 'internlm_scores', 'gpm_scores', 'offset_bias_scores', 'grm_llama32_scores', 'qrm_scores', 'grm_scores', 'urm_scores', 'skyworks_scores', 'grm_gemma_scores']\n"
     ]
    }
   ],
   "source": [
    "df, feature_columns = prepare_data()\n",
    "print(f\"Dataset shape: {df.shape}\")\n",
    "print(f\"Number of features: {len(feature_columns)}\")\n",
    "print(f\"\\nFeature columns: {feature_columns}\")"
   ]
  },
  {
   "cell_type": "code",
   "execution_count": 5,
   "metadata": {},
   "outputs": [],
   "source": [
    "def calculate_metrics(df_test, y_pred, y_pred_proba):\n",
    "    \"\"\"Calculate all required metrics including generation accuracy\"\"\"\n",
    "    metrics_per_problem = []\n",
    "    total_correct_predictions = 0\n",
    "    total_predictions = 0\n",
    "    \n",
    "    # Calculate metrics for each problem\n",
    "    for prob_idx in df_test['problem_idx'].unique():\n",
    "        prob_mask = df_test['problem_idx'] == prob_idx\n",
    "        prob_df = df_test[prob_mask]\n",
    "        prob_proba = y_pred_proba[prob_mask]\n",
    "        prob_pred = y_pred[prob_mask]\n",
    "        \n",
    "        # Calculate generation accuracy for this problem\n",
    "        correct_predictions = (prob_pred == prob_df['is_correct']).sum()\n",
    "        total_predictions += len(prob_pred)\n",
    "        total_correct_predictions += correct_predictions\n",
    "        \n",
    "        # Selection metrics (as before)\n",
    "        selected_idx = np.argmax(prob_proba)\n",
    "        prob_labels = prob_df['is_correct'].values\n",
    "        \n",
    "        tp = 1 if prob_labels[selected_idx] else 0\n",
    "        fp = 1 if not prob_labels[selected_idx] else 0\n",
    "        fn = 1 if sum(prob_labels) > 0 and not prob_labels[selected_idx] else 0\n",
    "        tn = 1 if sum(prob_labels) == 0 and not prob_labels[selected_idx] else 0\n",
    "        \n",
    "        metrics_per_problem.append({\n",
    "            'true_positive': tp,\n",
    "            'false_positive': fp,\n",
    "            'false_negative': fn,\n",
    "            'true_negative': tn\n",
    "        })\n",
    "    \n",
    "    # Aggregate metrics\n",
    "    n_problems = len(metrics_per_problem)\n",
    "    tp = sum(m['true_positive'] for m in metrics_per_problem)\n",
    "    fp = sum(m['false_positive'] for m in metrics_per_problem)\n",
    "    fn = sum(m['false_negative'] for m in metrics_per_problem)\n",
    "    tn = sum(m['true_negative'] for m in metrics_per_problem)\n",
    "    \n",
    "    metrics = {\n",
    "        'selection_accuracy': tp / n_problems,\n",
    "        'selection_precision': tp / (tp + fp) if (tp + fp) > 0 else 0,\n",
    "        'selection_recall': tp / (tp + fn) if (tp + fn) > 0 else 0,\n",
    "        'selection_tp': tp,\n",
    "        'selection_tn': tn,\n",
    "        'selection_fp': fp,\n",
    "        'selection_fn': fn,\n",
    "        'generation_accuracy': total_correct_predictions / total_predictions\n",
    "    }\n",
    "\n",
    "    metrics['selection_f1'] = (\n",
    "        2 * metrics['selection_precision'] * metrics['selection_recall'] /\n",
    "        (metrics['selection_precision'] + metrics['selection_recall'])\n",
    "        if (metrics['selection_precision'] + metrics['selection_recall']) > 0 else 0\n",
    "    )\n",
    "\n",
    "    return metrics"
   ]
  },
  {
   "cell_type": "code",
   "execution_count": 6,
   "metadata": {},
   "outputs": [],
   "source": [
    "def train_global_mlp(df, feature_columns, train_percentage):\n",
    "    \"\"\"Train global MLP with fixed architecture\"\"\"\n",
    "    X = df[feature_columns].copy()\n",
    "    y = df['is_correct']\n",
    "    \n",
    "    problems_per_generation = len(df) / len(df['problem_idx'].unique())\n",
    "    k = int(problems_per_generation * train_percentage)\n",
    "    train_mask = df.groupby('problem_idx').cumcount() < k\n",
    "    \n",
    "    X_train = X[train_mask]\n",
    "    y_train = y[train_mask]\n",
    "    X_test = X[~train_mask]\n",
    "    y_test = y[~train_mask]\n",
    "    df_test = df[~train_mask]\n",
    "    \n",
    "    mlp = MLPClassifier(\n",
    "        hidden_layer_sizes=(100, 50),\n",
    "        learning_rate_init=0.001,\n",
    "        max_iter=1000,\n",
    "        random_state=42\n",
    "    )\n",
    "    \n",
    "    mlp.fit(X_train, y_train)\n",
    "\n",
    "    test_pred = mlp.predict(X_test)\n",
    "    test_pred_proba = mlp.predict_proba(X_test)[:, 1]\n",
    "    \n",
    "    metrics = calculate_metrics(df_test, test_pred, test_pred_proba)\n",
    "    metrics['train_percentage'] = train_percentage\n",
    "    \n",
    "    return metrics"
   ]
  },
  {
   "cell_type": "code",
   "execution_count": 7,
   "metadata": {},
   "outputs": [],
   "source": [
    "def plot_results(results_df: pd.DataFrame, model_type: str):\n",
    "    \"\"\"Plot accuracy metrics\"\"\"\n",
    "    plt.figure(figsize=(10, 5))\n",
    "    \n",
    "    # Selection@1 plot\n",
    "    plt.subplot(1, 2, 1)\n",
    "    plt.plot(results_df['train_percentage'] * 100,\n",
    "             results_df['selection_accuracy'],\n",
    "             '-o', label=f'{model_type} MLP')\n",
    "    plt.xlabel('Percentage of Training Data')\n",
    "    plt.ylabel('Selection@1')\n",
    "    plt.title('Selection@1 vs Training Data Size')\n",
    "    plt.grid(True)\n",
    "    plt.ylim(0, 1)\n",
    "    plt.legend()\n",
    "\n",
    "    # Generation Accuracy plot\n",
    "    plt.subplot(1, 2, 2)\n",
    "    plt.plot(results_df['train_percentage'] * 100,\n",
    "             results_df['generation_accuracy'],\n",
    "             '-o', label=f'{model_type} MLP')\n",
    "    plt.xlabel('Percentage of Training Data')\n",
    "    plt.ylabel('Generation Accuracy')\n",
    "    plt.title('Generation Accuracy vs Training Data Size')\n",
    "    plt.grid(True)\n",
    "    plt.ylim(0, 1)\n",
    "    plt.legend()\n",
    "    \n",
    "    plt.tight_layout()\n",
    "    plt.savefig(os.path.join(exp_dir, 'plots.png'))\n",
    "    plt.close()"
   ]
  },
  {
   "cell_type": "code",
   "execution_count": 8,
   "metadata": {},
   "outputs": [
    {
     "name": "stderr",
     "output_type": "stream",
     "text": [
      "  0%|          | 0/6 [00:00<?, ?it/s]"
     ]
    },
    {
     "name": "stdout",
     "output_type": "stream",
     "text": [
      "\n",
      "Training with 0.1% of data\n"
     ]
    },
    {
     "name": "stderr",
     "output_type": "stream",
     "text": [
      " 17%|█▋        | 1/6 [00:00<00:01,  2.87it/s]"
     ]
    },
    {
     "name": "stdout",
     "output_type": "stream",
     "text": [
      "Selection accuracy: 0.460\n",
      "Generation Accuracy: 0.693\n",
      "\n",
      "Training with 1.0% of data\n"
     ]
    },
    {
     "name": "stderr",
     "output_type": "stream",
     "text": [
      " 33%|███▎      | 2/6 [00:01<00:03,  1.24it/s]"
     ]
    },
    {
     "name": "stdout",
     "output_type": "stream",
     "text": [
      "Selection accuracy: 0.490\n",
      "Generation Accuracy: 0.744\n",
      "\n",
      "Training with 10.0% of data\n"
     ]
    },
    {
     "name": "stderr",
     "output_type": "stream",
     "text": [
      " 50%|█████     | 3/6 [00:07<00:10,  3.35s/it]"
     ]
    },
    {
     "name": "stdout",
     "output_type": "stream",
     "text": [
      "Selection accuracy: 0.570\n",
      "Generation Accuracy: 0.781\n",
      "\n",
      "Training with 30.0% of data\n"
     ]
    },
    {
     "name": "stderr",
     "output_type": "stream",
     "text": [
      " 67%|██████▋   | 4/6 [00:24<00:17,  8.75s/it]"
     ]
    },
    {
     "name": "stdout",
     "output_type": "stream",
     "text": [
      "Selection accuracy: 0.550\n",
      "Generation Accuracy: 0.805\n",
      "\n",
      "Training with 50.0% of data\n"
     ]
    },
    {
     "name": "stderr",
     "output_type": "stream",
     "text": [
      " 83%|████████▎ | 5/6 [01:07<00:20, 20.98s/it]"
     ]
    },
    {
     "name": "stdout",
     "output_type": "stream",
     "text": [
      "Selection accuracy: 0.620\n",
      "Generation Accuracy: 0.815\n",
      "\n",
      "Training with 70.0% of data\n"
     ]
    },
    {
     "name": "stderr",
     "output_type": "stream",
     "text": [
      "100%|██████████| 6/6 [01:58<00:00, 19.72s/it]"
     ]
    },
    {
     "name": "stdout",
     "output_type": "stream",
     "text": [
      "Selection accuracy: 0.630\n",
      "Generation Accuracy: 0.815\n"
     ]
    },
    {
     "name": "stderr",
     "output_type": "stream",
     "text": [
      "\n"
     ]
    }
   ],
   "source": [
    "train_percentages = [0.001, 0.01, 0.1, 0.3, 0.5, 0.7]\n",
    "results = []\n",
    "\n",
    "for train_percentage in tqdm(train_percentages):\n",
    "    print(f\"\\nTraining with {train_percentage*100}% of data\")\n",
    "    metrics = train_global_mlp(df, feature_columns, train_percentage)\n",
    "    results.append(metrics)\n",
    "    print(f\"Selection accuracy: {metrics['selection_accuracy']:.3f}\")\n",
    "    print(f\"Generation Accuracy: {metrics['generation_accuracy']:.3f}\")\n",
    "\n",
    "results_df = pd.DataFrame(results)\n",
    "results_df.to_csv(os.path.join(exp_dir, 'metrics.csv'), index=False)  \n",
    "plot_results(results_df, model_type='Global')  "
   ]
  },
  {
   "cell_type": "code",
   "execution_count": 9,
   "metadata": {},
   "outputs": [],
   "source": []
  },
  {
   "cell_type": "code",
   "execution_count": null,
   "metadata": {},
   "outputs": [],
   "source": []
  }
 ],
 "metadata": {
  "kernelspec": {
   "display_name": "agents",
   "language": "python",
   "name": "python3"
  },
  "language_info": {
   "codemirror_mode": {
    "name": "ipython",
    "version": 3
   },
   "file_extension": ".py",
   "mimetype": "text/x-python",
   "name": "python",
   "nbconvert_exporter": "python",
   "pygments_lexer": "ipython3",
   "version": "3.12.8"
  }
 },
 "nbformat": 4,
 "nbformat_minor": 2
}
